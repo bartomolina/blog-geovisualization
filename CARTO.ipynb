{
 "cells": [
  {
   "cell_type": "code",
   "execution_count": 11,
   "metadata": {
    "ExecuteTime": {
     "end_time": "2019-06-16T22:18:53.009549Z",
     "start_time": "2019-06-16T22:18:42.225719Z"
    }
   },
   "outputs": [
    {
     "name": "stdout",
     "output_type": "stream",
     "text": [
      "Params: encode_geom, geom_col and everything in kwargs are deprecated and not being used any more\n"
     ]
    },
    {
     "name": "stderr",
     "output_type": "stream",
     "text": [
      "C:\\Data\\Python37\\lib\\site-packages\\carto\\sql.py:229: UserWarning: Batch SQL job created with job_id: 426ef0f9-ca37-4604-ac49-2b15ae914e93\n",
      "  warnings.warn('Batch SQL job created with job_id: {job_id}'.format(job_id=data['job_id']))\n"
     ]
    },
    {
     "name": "stdout",
     "output_type": "stream",
     "text": [
      "Table successfully written to CARTO: https://bartomolina.carto.com/dataset/kc_house_data\n"
     ]
    },
    {
     "data": {
      "text/html": [
       "<iframe srcdoc=\"<!DOCTYPE html>\n",
       "<html>\n",
       "  <head>\n",
       "    <title>Carto</title>\n",
       "    <meta name='viewport' content='initial-scale=1.0, user-scalable=no' />\n",
       "    <meta http-equiv='content-type' content='text/html; charset=UTF-8' />\n",
       "    <link rel='shortcut icon' href='http://cartodb.com/assets/favicon.ico' />\n",
       "\n",
       "    <style>\n",
       "     html, body, #map {\n",
       "       height: 100%;\n",
       "       padding: 0;\n",
       "       margin: 0;\n",
       "     }\n",
       "     #zoom-center {\n",
       "       position: absolute;\n",
       "       right: 0;\n",
       "       top: 0;\n",
       "       background-color: rgba(255, 255, 255, 0.7);\n",
       "       width: 240px;\n",
       "       z-index: 100;\n",
       "       padding: 4px;\n",
       "     }\n",
       "    </style>\n",
       "\n",
       "    <link rel='stylesheet' href='https://cartodb-libs.global.ssl.fastly.net/cartodb.js/v3/3.15/themes/css/cartodb.css' />\n",
       "  </head>\n",
       "  <body>\n",
       "    <div id='zoom-center'>\n",
       "      zoom=<span id='zoom'>4</span>,\n",
       "      lng=<span id='lon'>No data</span>, lat=<span id='lat'>No data</span>\n",
       "    </div>\n",
       "    <div id='map'></div>\n",
       "    <script src='https://cartodb-libs.global.ssl.fastly.net/cartodb.js/v3/3.15/cartodb.js'></script>\n",
       "\n",
       "    <script>\n",
       "     const config  = {&quot;user_name&quot;: &quot;bartomolina&quot;, &quot;maps_api_template&quot;: &quot;https://bartomolina.carto.com&quot;, &quot;sql_api_template&quot;: &quot;https://bartomolina.carto.com&quot;, &quot;tiler_protocol&quot;: &quot;https&quot;, &quot;tiler_domain&quot;: &quot;carto.com&quot;, &quot;tiler_port&quot;: &quot;80&quot;, &quot;type&quot;: &quot;namedmap&quot;, &quot;named_map&quot;: {&quot;name&quot;: &quot;cartoframes_ver20170406_layers1_time0_baseid2_labels0_zoom0&quot;, &quot;params&quot;: {&quot;basemap_url&quot;: &quot;https://{s}.basemaps.cartocdn.com/rastertiles/voyager_labels_under/{z}/{x}/{y}.png&quot;, &quot;cartocss_0&quot;: &quot;#layer {  marker-width: 5; marker-fill: ramp([price], cartocolor(TealGrn), headtails(3), <); marker-fill-opacity: 0.9; marker-allow-overlap: true; marker-line-width: 0.5; marker-line-color: #FFF; marker-line-opacity: 1;}#layer[price = null] {  marker-fill: #ccc;}&quot;, &quot;sql_0&quot;: &quot;SELECT * FROM kc_house_data&quot;, &quot;west&quot;: -122.519, &quot;south&quot;: 47.1559, &quot;east&quot;: -121.315, &quot;north&quot;: 47.7776}}};\n",
       "     const bounds  = [[47.7776, -121.315], [47.1559, -122.519]];\n",
       "     const options = {&quot;filter&quot;: [&quot;mapnik&quot;, &quot;torque&quot;], &quot;https&quot;: true};\n",
       "     var labels_url = '';\n",
       "\n",
       "     const adjustLongitude = (lng) => (\n",
       "       lng - ((Math.ceil((lng + 180) / 360) - 1) * 360)\n",
       "     );\n",
       "     const map = L.map('map', {\n",
       "       zoom: 3,\n",
       "       center: [0, 0],\n",
       "     });\n",
       "\n",
       "     if (L.Browser.retina) {\n",
       "         var basemap = config.named_map.params.basemap_url.replace('.png', '@2x.png');\n",
       "         labels_url = labels_url.replace('.png', '@2x.png');\n",
       "     } else {\n",
       "         var basemap = config.named_map.params.basemap_url;\n",
       "     }\n",
       "     L.tileLayer(basemap, {\n",
       "         attribution: &quot;&copy; <a href=\\&quot;http://www.openstreetmap.org/copyright\\&quot;>OpenStreetMap</a>&quot;\n",
       "     }).addTo(map);\n",
       "\n",
       "     const updateMapInfo = () => {\n",
       "       $('#zoom').text(map.getZoom());\n",
       "       $('#lat').text(map.getCenter().lat.toFixed(4));\n",
       "       $('#lon').text(adjustLongitude(map.getCenter().lng).toFixed(4));\n",
       "     };\n",
       "\n",
       "     cartodb.createLayer(map, config, options)\n",
       "            .addTo(map)\n",
       "            .done((layer) => {\n",
       "                // add labels layer\n",
       "                if (labels_url) {\n",
       "                    var topPane = L.DomUtil.create('div', 'leaflet-top-pane', map.getPanes().mapPane);\n",
       "                    var topLayer = new L.tileLayer(labels_url).addTo(map);\n",
       "                    topPane.appendChild(topLayer.getContainer());\n",
       "                    topLayer.setZIndex(7);\n",
       "                 }\n",
       "\n",
       "                // fit map to bounds\n",
       "                if (bounds.length) {\n",
       "                  map.fitBounds(bounds);\n",
       "                }\n",
       "\n",
       "                updateMapInfo();\n",
       "                map.on('move', () => {\n",
       "                  updateMapInfo();\n",
       "                });\n",
       "            })\n",
       "            .error((err) => {\n",
       "              console.log('ERROR: ', err);\n",
       "            });\n",
       "    </script>\n",
       "\n",
       "  </body>\n",
       "</html>\n",
       "\" width=\"800\" height=\"400\">  Preview image: <img src=\"https://bartomolina.carto.com/api/v1/map/static/named/cartoframes_ver20170406_layers1_time0_baseid2_labels0_zoom0/800/400.png?config=%7B%22basemap_url%22%3A+%22https%3A%2F%2F%7Bs%7D.basemaps.cartocdn.com%2Frastertiles%2Fvoyager_labels_under%2F%7Bz%7D%2F%7Bx%7D%2F%7By%7D.png%22%2C+%22cartocss_0%22%3A+%22%23layer+%7B++marker-width%3A+5%3B+marker-fill%3A+ramp%28%5Bprice%5D%2C+cartocolor%28TealGrn%29%2C+headtails%283%29%2C+%3C%29%3B+marker-fill-opacity%3A+0.9%3B+marker-allow-overlap%3A+true%3B+marker-line-width%3A+0.5%3B+marker-line-color%3A+%23FFF%3B+marker-line-opacity%3A+1%3B%7D%23layer%5Bprice+%3D+null%5D+%7B++marker-fill%3A+%23ccc%3B%7D%22%2C+%22sql_0%22%3A+%22SELECT+%2A+FROM+kc_house_data%22%7D&anti_cache=0.8923788462004641&bbox=-122.519%2C47.1559%2C-121.315%2C47.7776\" /></iframe>"
      ],
      "text/plain": [
       "<IPython.core.display.HTML object>"
      ]
     },
     "execution_count": 11,
     "metadata": {},
     "output_type": "execute_result"
    }
   ],
   "source": [
    "# we use dotenv to use CARTO API key: https://carto.com/signup/\n",
    "# use .env.example as a reference\n",
    "import os\n",
    "from dotenv import load_dotenv\n",
    "load_dotenv()\n",
    "\n",
    "import pandas as pd\n",
    "\n",
    "# CARTOframes imports\n",
    "import cartoframes\n",
    "from cartoframes import Credentials, Layer, styling\n",
    "\n",
    "# import CARTO key\n",
    "USERNAME = os.getenv(\"CARTO_USERNAME\")\n",
    "APIKEY = os.getenv(\"CARTO_KEY\")\n",
    "creds = Credentials(username=USERNAME, \n",
    "                    key=APIKEY)\n",
    "cc = cartoframes.CartoContext(creds=creds)\n",
    "\n",
    "# import the dataset\n",
    "df = pd.read_csv('kc_house_data.csv')\n",
    "df['id'] = df['id'].astype('float64')\n",
    "\n",
    "# export the dataframe into a CARTO table\n",
    "cc.write(df,\n",
    "         table_name='kc_house_data',\n",
    "         lnglat=('long', 'lat'),\n",
    "         overwrite=True)\n",
    "\n",
    "cc.map(layers=Layer('kc_house_data',\n",
    "                    color={'column': 'price', 'scheme': styling.tealGrn(bins=3, bin_method='headtails')},\n",
    "                    size=5), interactive=True)"
   ]
  }
 ],
 "metadata": {
  "kernelspec": {
   "display_name": "learn-env",
   "language": "python",
   "name": "learn-env"
  },
  "language_info": {
   "codemirror_mode": {
    "name": "ipython",
    "version": 3
   },
   "file_extension": ".py",
   "mimetype": "text/x-python",
   "name": "python",
   "nbconvert_exporter": "python",
   "pygments_lexer": "ipython3",
   "version": "3.7.3"
  },
  "varInspector": {
   "cols": {
    "lenName": 16,
    "lenType": 16,
    "lenVar": 40
   },
   "kernels_config": {
    "python": {
     "delete_cmd_postfix": "",
     "delete_cmd_prefix": "del ",
     "library": "var_list.py",
     "varRefreshCmd": "print(var_dic_list())"
    },
    "r": {
     "delete_cmd_postfix": ") ",
     "delete_cmd_prefix": "rm(",
     "library": "var_list.r",
     "varRefreshCmd": "cat(var_dic_list()) "
    }
   },
   "types_to_exclude": [
    "module",
    "function",
    "builtin_function_or_method",
    "instance",
    "_Feature"
   ],
   "window_display": false
  }
 },
 "nbformat": 4,
 "nbformat_minor": 2
}
